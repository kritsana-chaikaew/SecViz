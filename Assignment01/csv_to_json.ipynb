{
 "cells": [
  {
   "cell_type": "code",
   "execution_count": 2,
   "metadata": {
    "collapsed": true
   },
   "outputs": [],
   "source": [
    "import pandas as pd\n",
    "import numpy as np\n",
    "import json\n",
    "from random import randint\n",
    "from collections import defaultdict"
   ]
  },
  {
   "cell_type": "code",
   "execution_count": 3,
   "metadata": {
    "collapsed": true
   },
   "outputs": [],
   "source": [
    "fileName = \"2018-07-International-Exchange-Index\""
   ]
  },
  {
   "cell_type": "code",
   "execution_count": 4,
   "metadata": {},
   "outputs": [],
   "source": [
    "csvData = pd.read_csv(fileName+\".csv\", dtype='str')"
   ]
  },
  {
   "cell_type": "code",
   "execution_count": 5,
   "metadata": {
    "collapsed": true
   },
   "outputs": [],
   "source": [
    "namedAsn = set(csvData['ASN'].values)\n",
    "\n",
    "asnSource = set(csvData['ASN-source'].values)\n",
    "unnamedAsnSource = asnSource - namedAsn\n",
    "namedAsnSource = asnSource - unnamedAsnSource\n",
    "\n",
    "mapping = {}\n",
    "for asn in namedAsnSource:\n",
    "    mapping[asn] = csvData.loc[csvData['ASN']==asn]['Name'].values[0]\n",
    "for asn in unnamedAsnSource:\n",
    "    mapping[asn] = asn"
   ]
  },
  {
   "cell_type": "code",
   "execution_count": 6,
   "metadata": {
    "collapsed": true
   },
   "outputs": [],
   "source": [
    "def new_node(color, label, attributes, x, y, _id):\n",
    "    node = {}\n",
    "    node[\"color\"] = color\n",
    "    node[\"label\"] = label\n",
    "    node[\"attributes\"] = attributes\n",
    "    node[\"y\"] = y\n",
    "    node[\"x\"] = x\n",
    "    node[\"id\"] = _id\n",
    "    node[\"size\"] = 5\n",
    "    return node\n",
    "\n",
    "def new_edge(sourceID, attributes, targetID, size):\n",
    "    edge = {}\n",
    "    edge[\"sourceID\"] = sourceID\n",
    "    edge[\"attributes\"] = attributes\n",
    "    edge[\"targetID\"] = targetID\n",
    "    edge[\"size\"] = size\n",
    "    return edge\n",
    "\n",
    "colors = [\n",
    "\"#C91F37\",\n",
    "\"#DC3023\",\n",
    "\"#9D2933\",\n",
    "\"#CF000F\",\n",
    "\"#E68364\",\n",
    "\"#F22613\",\n",
    "\"#CF3A24\",\n",
    "\"#C3272B\",\n",
    "\"#8F1D21\",\n",
    "\"#D24D57\",\n",
    "\"#F08F907\",\n",
    "\"#F47983\",\n",
    "\"#DB5A6B\",\n",
    "\"#C93756\",\n",
    "\"#FCC9B9\",\n",
    "\"#FFB3A7\",\n",
    "\"#F62459\",\n",
    "\"#F58F84\",\n",
    "\"#875F9A\",\n",
    "\"#5D3F6A\",\n",
    "\"#89729E\",\n",
    "\"#763568\",\n",
    "\"#8D608C\",\n",
    "\"#A87CA0\",\n",
    "\"#5B3256\",\n",
    "\"#BF55EC\",\n",
    "\"#8E44AD\",\n",
    "\"#9B59B6\",\n",
    "\"#BE90D4\",\n",
    "\"#4D8FAC\",\n",
    "\"#5D8CAE\",\n",
    "\"#22A7F0\",\n",
    "\"#19B5FE\",\n",
    "\"#59ABE3\",\n",
    "\"#48929B\",\n",
    "\"#317589\",\n",
    "\"#89C4F4\",\n",
    "\"#4B77BE\",\n",
    "\"#1F4788\",\n",
    "\"#003171\",\n",
    "\"#044F67\",\n",
    "\"#264348\",\n",
    "\"#7A942E\",\n",
    "\"#8DB255\",\n",
    "\"#5B8930\",\n",
    "\"#6B9362\",\n",
    "\"#407A52\",\n",
    "\"#006442\",\n",
    "\"#87D37C\",\n",
    "\"#26A65B\",\n",
    "\"#26C281\",\n",
    "\"#049372\",\n",
    "\"#2ABB9B\",\n",
    "\"#16A085\",\n",
    "\"#36D7B7\",\n",
    "\"#03A678\",\n",
    "\"#4DAF7C\",\n",
    "\"#D9B611\",\n",
    "\"#F3C13A\",\n",
    "\"#F7CA18\",\n",
    "\"#E2B13C\",\n",
    "\"#A17917\",\n",
    "\"#F5D76E\",\n",
    "\"#F4D03F\",\n",
    "\"#FFA400\",\n",
    "\"#E08A1E\",\n",
    "\"#FFB61E\",\n",
    "\"#FAA945\",\n",
    "\"#FFA631\",\n",
    "\"#FFB94E\",\n",
    "\"#E29C45\",\n",
    "\"#F9690E\",\n",
    "\"#CA6924\",\n",
    "\"#F5AB35\",\n",
    "\"#BFBFBF\",\n",
    "\"#F2F1EF\",\n",
    "\"#BDC3C7\",\n",
    "\"#ECF0F1\",\n",
    "\"#D2D7D3\",\n",
    "\"#757D75\",\n",
    "\"#EEEEEE\",\n",
    "\"#ABB7B7\",\n",
    "\"#6C7A89\",\n",
    "\"#95A5A6\"]\n",
    "colors_count = len(colors)"
   ]
  },
  {
   "cell_type": "code",
   "execution_count": 13,
   "metadata": {},
   "outputs": [
    {
     "data": {
      "text/plain": [
       "(637, 260)"
      ]
     },
     "execution_count": 13,
     "metadata": {},
     "output_type": "execute_result"
    }
   ],
   "source": [
    "nodes = []\n",
    "edges = []\n",
    "isNodeExist = defaultdict(bool)\n",
    "\n",
    "for index, row in csvData.iterrows():\n",
    "    label = ''\n",
    "    if not isNodeExist[row['ASN-source']]:\n",
    "        label = mapping[row['ASN-source']]\n",
    "            \n",
    "        nodes.append(\n",
    "            new_node(\n",
    "                    color=colors[randint(0, colors_count-1)], \n",
    "                    label=label, \n",
    "                    attributes={}, \n",
    "                    x=randint(-5, 5), \n",
    "                    y=randint(-5, 5), \n",
    "                    _id=label))\n",
    "        isNodeExist[row['ASN-source']] = True\n",
    "        \n",
    "    if not isNodeExist[row['ASN']]:\n",
    "        nodes.append(\n",
    "            new_node(\n",
    "                color=colors[randint(0, colors_count-1)], \n",
    "                label=row['Name'], \n",
    "                attributes={}, \n",
    "                x=randint(-5, 5), \n",
    "                y=randint(-5, 5), \n",
    "                _id=row['Name']))\n",
    "        isNodeExist[row['ASN']] = True\n",
    "    \n",
    "    edges.append(\n",
    "        new_edge(\n",
    "            sourceID=mapping[row['ASN-source']], \n",
    "            attributes={}, \n",
    "            targetID=row['Name'], \n",
    "            size=1))"
   ]
  },
  {
   "cell_type": "code",
   "execution_count": 8,
   "metadata": {
    "collapsed": true
   },
   "outputs": [],
   "source": [
    "graph = {}\n",
    "graph[\"nodes\"] = nodes\n",
    "graph[\"edges\"] = edges"
   ]
  },
  {
   "cell_type": "code",
   "execution_count": 9,
   "metadata": {
    "collapsed": true
   },
   "outputs": [],
   "source": [
    "with open(fileName+\".json\", 'w') as outfile:\n",
    "    json.dump(graph, outfile, indent=4, separators=(',', ': '), sort_keys=True)"
   ]
  },
  {
   "cell_type": "code",
   "execution_count": null,
   "metadata": {
    "collapsed": true
   },
   "outputs": [],
   "source": []
  }
 ],
 "metadata": {
  "kernelspec": {
   "display_name": "Python 3",
   "language": "python",
   "name": "python3"
  },
  "language_info": {
   "codemirror_mode": {
    "name": "ipython",
    "version": 3
   },
   "file_extension": ".py",
   "mimetype": "text/x-python",
   "name": "python",
   "nbconvert_exporter": "python",
   "pygments_lexer": "ipython3",
   "version": "3.6.3"
  }
 },
 "nbformat": 4,
 "nbformat_minor": 2
}
